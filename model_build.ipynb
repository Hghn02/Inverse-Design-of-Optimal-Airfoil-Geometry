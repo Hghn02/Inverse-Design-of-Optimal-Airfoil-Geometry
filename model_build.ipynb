{
 "cells": [
  {
   "cell_type": "code",
   "execution_count": 3,
   "metadata": {},
   "outputs": [],
   "source": [
    "from sklearn import decomposition\n",
    "from sklearn.decomposition import PCA\n",
    "import numpy as np\n",
    "import matplotlib.pyplot as plt\n",
    "import pandas as pd\n",
    "import torch\n",
    "import torch.nn as nn\n",
    "import torch.optim as optim"
   ]
  },
  {
   "cell_type": "code",
   "execution_count": 4,
   "metadata": {},
   "outputs": [
    {
     "name": "stdout",
     "output_type": "stream",
     "text": [
      "(995, 384)\n",
      "(995, 3)\n",
      "(995,)\n"
     ]
    }
   ],
   "source": [
    "# Loading data into numpy arrays\n",
    "inp_paras = np.load('data/inp_paras_995.npy')\n",
    "aoas_opt = np.load('data/aoas_opt_995.npy')\n",
    "airfoils_opt = np.load('data/airfoils_opt_995.npy')\n",
    "\n",
    "print(airfoils_opt.reshape(995,-1).shape)\n",
    "print(inp_paras.shape)\n",
    "print(aoas_opt.shape)"
   ]
  },
  {
   "cell_type": "code",
   "execution_count": 5,
   "metadata": {},
   "outputs": [
    {
     "name": "stdout",
     "output_type": "stream",
     "text": [
      "Number of latent dimensions to explain 99% of variance:  5\n"
     ]
    },
    {
     "data": {
      "image/png": "[encoded data removed]",
      "text/plain": [
       "<Figure size 640x480 with 1 Axes>"
      ]
     },
     "metadata": {},
     "output_type": "display_data"
    }
   ],
   "source": [
    "# Centering the airfoils\n",
    "airfoils_opt[:, :, 0] -= airfoils_opt[:, :, 0].mean()\n",
    "airfoils_opt[:, :,1] -= airfoils_opt[:,:,1].mean()\n",
    "\n",
    "# PCA for dimesniosn reduction of airfoil geometries\n",
    "airfoils_opt_new = airfoils_opt.reshape(995,-1) # FLatten the 3D array to 2D for the PCA estimator\n",
    "estimator = decomposition.PCA(n_components=15)\n",
    "estimator.fit(airfoils_opt_new) \n",
    "components_ = estimator.components_\n",
    "\n",
    "# Scree Plot\n",
    "# Plotting the explained variance for each latent dimension\n",
    "plt.plot(estimator.explained_variance_)\n",
    "plt.ylabel(\"Explained Variance\")\n",
    "plt.xlabel(\"Latent Dimension\")\n",
    "\n",
    "cumulative_explained_var_ratio = np.cumsum(estimator.explained_variance_ratio_)\n",
    "num_dims_to99 = np.argmax(cumulative_explained_var_ratio > .99) # Number of dimesnions needed to explain 99% of variance\n",
    "print(\"Number of latent dimensions to explain 99% of variance: \", num_dims_to99)"
   ]
  },
  {
   "cell_type": "code",
   "execution_count": 6,
   "metadata": {},
   "outputs": [
    {
     "name": "stdout",
     "output_type": "stream",
     "text": [
      "(995, 5)\n",
      "(995, 384)\n"
     ]
    }
   ],
   "source": [
    "# Transforming airfoil geometry data into a lower dimesnion space\n",
    "lowDProjection = np.zeros((995, 384))\n",
    "\n",
    "pca = PCA(n_components=num_dims_to99)\n",
    "pca.fit(airfoils_opt_new)\n",
    "lowDProjection_airfoils_opt = pca.transform(airfoils_opt_new)\n",
    "print(lowDProjection_airfoils_opt.shape)\n",
    "\n",
    "# Example of recasting our data back into the orginal dimension space\n",
    "reconstruct_data = pca.inverse_transform(lowDProjection_airfoils_opt)\n",
    "print(reconstruct_data.shape)"
   ]
  },
  {
   "cell_type": "code",
   "execution_count": 7,
   "metadata": {},
   "outputs": [
    {
     "name": "stdout",
     "output_type": "stream",
     "text": [
      "(796, 3)\n",
      "(199, 3)\n",
      "(796, 5)\n"
     ]
    }
   ],
   "source": [
    "# Splitting data into training and testing\n",
    "n = 0.8\n",
    "size_train = int(n*lowDProjection_airfoils_opt.shape[0])\n",
    "\n",
    "x_train = inp_paras[:size_train]\n",
    "y_train = lowDProjection_airfoils_opt[:size_train]\n",
    "\n",
    "x_test = inp_paras[size_train:]\n",
    "y_test = lowDProjection_airfoils_opt[size_train]\n",
    "\n",
    "print(x_train.shape)\n",
    "print(x_test.shape)\n",
    "print(y_train.shape)\n",
    "\n",
    "x_train = torch.tensor(x_train, dtype=torch.float32)\n",
    "y_train = torch.tensor(y_train, dtype=torch.float32)\n",
    "x_test = torch.tensor(x_test, dtype=torch.float32)\n",
    "y_test = torch.tensor(y_test, dtype=torch.float32)\n"
   ]
  },
  {
   "cell_type": "code",
   "execution_count": null,
   "metadata": {},
   "outputs": [
    {
     "name": "stdout",
     "output_type": "stream",
     "text": [
      "Epoch 0, Loss: 25622441099264.0\n",
      "Epoch 20, Loss: 3675921920.0\n",
      "Epoch 40, Loss: 8.530415534973145\n",
      "Epoch 60, Loss: 0.9766276478767395\n",
      "Epoch 80, Loss: 0.5702274441719055\n"
     ]
    }
   ],
   "source": [
    "# DNN Building\n",
    "class Airfoil_NN(nn.Module):\n",
    "    def __init__(self, output_param, input_param = 3, neurons_per_layer = [3, 3]):\n",
    "        super().__init__() \n",
    "        self.input_param = input_param\n",
    "        self.output_param = output_param\n",
    "        self.neurons_per_layer = neurons_per_layer\n",
    "\n",
    "        self.hidden1 = nn.Linear(self.input_param, self.neurons_per_layer[0])\n",
    "        self.act1 = nn.Softplus()\n",
    "        self.hidden2 = nn.Linear(self.neurons_per_layer[0], self.neurons_per_layer[1])\n",
    "        self.act2 = nn.ReLU()\n",
    "        self.output = nn.Linear(self.neurons_per_layer[1], self.output_param)\n",
    "        self.act_output = nn.ReLU()\n",
    "\n",
    "\n",
    "    def forward(self, x):\n",
    "        x = self.act1(self.hidden1(x))\n",
    "        x = self.act2(self.hidden2(x))\n",
    "        x = self.act_output(self.output(x))\n",
    "        return x \n",
    "\n",
    "# Linear --> Softplus --> Linear --> ReLU --> Linear --> ReLU \n",
    "model = Airfoil_NN(5, 3, [8, 16]) # [output layer neurons, input layer neurons, hiddern layer 1, hidden layer 2]\n",
    "\n",
    "# train the model\n",
    "loss_fn   = nn.MSELoss()\n",
    "optimizer = optim.Adam(model.parameters(), lr=0.001)\n",
    "\n",
    "n_epochs = 100\n",
    "batch_size = 80 # Higher batch sizes tend to give us lower losses\n",
    "\n",
    "# Batch Fed Training Loop\n",
    "for epoch in range(n_epochs):\n",
    "    for i in range(0, len(x_train), batch_size):\n",
    "        Xbatch = x_train[i:i+batch_size]\n",
    "        y_pred = model(Xbatch)\n",
    "        ybatch = y_train[i:i+batch_size]\n",
    "        loss = loss_fn(y_pred, ybatch)\n",
    "        optimizer.zero_grad()\n",
    "        loss.backward()\n",
    "        optimizer.step()\n",
    "\n",
    "    # Performance Monitoring \n",
    "    if(epoch % 20 == 0):\n",
    "        print(f\"Epoch {epoch}, Loss: {loss}\")\n",
    "        "
   ]
  }
 ],
 "metadata": {
  "kernelspec": {
   "display_name": "ENME440",
   "language": "python",
   "name": "python3"
  },
  "language_info": {
   "codemirror_mode": {
    "name": "ipython",
    "version": 3
   },
   "file_extension": ".py",
   "mimetype": "text/x-python",
   "name": "python",
   "nbconvert_exporter": "python",
   "pygments_lexer": "ipython3",
   "version": "3.12.8"
  }
 },
 "nbformat": 4,
 "nbformat_minor": 4
}
