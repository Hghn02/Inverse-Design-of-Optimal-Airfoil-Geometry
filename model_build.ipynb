{
 "cells": [
  {
   "cell_type": "code",
   "execution_count": 107,
   "metadata": {},
   "outputs": [],
   "source": [
    "from sklearn import decomposition\n",
    "from sklearn.decomposition import PCA\n",
    "import numpy as np\n",
    "import matplotlib.pyplot as plt\n",
    "import pandas as pd\n",
    "import torch\n",
    "import torch.nn as nn\n",
    "import torch.optim as optim\n",
    "from sklearn.preprocessing import StandardScaler,Normalizer\n",
    "from sklearn.model_selection import KFold\n",
    "import random"
   ]
  },
  {
   "cell_type": "code",
   "execution_count": 108,
   "metadata": {},
   "outputs": [
    {
     "name": "stdout",
     "output_type": "stream",
     "text": [
      "(995, 384)\n",
      "(995, 3)\n",
      "(995,)\n"
     ]
    }
   ],
   "source": [
    "# Loading data into numpy arrays\n",
    "inp_paras = np.load('data/inp_paras_995.npy')\n",
    "aoas_opt = np.load('data/aoas_opt_995.npy')\n",
    "airfoils_opt = np.load('data/airfoils_opt_995.npy')\n",
    "\n",
    "# # Evens out array\n",
    "# inp_paras = inp_paras[:-1]\n",
    "# aoas_opt = aoas_opt[:-1]\n",
    "# airfoils_opt = airfoils_opt[:-1]\n",
    "\n",
    "\n",
    "print(airfoils_opt.reshape(995,-1).shape)\n",
    "print(inp_paras.shape)\n",
    "print(aoas_opt.shape)"
   ]
  },
  {
   "cell_type": "code",
   "execution_count": 109,
   "metadata": {},
   "outputs": [
    {
     "name": "stdout",
     "output_type": "stream",
     "text": [
      "(990, 192, 2)\n",
      "(990, 3)\n",
      "(10, 99, 3)\n",
      "(10, 891, 3)\n",
      "(10, 99, 384)\n",
      "(10, 891, 384)\n"
     ]
    }
   ],
   "source": [
    "# Splitting data into training and testing\n",
    "x_train = []\n",
    "x_test = []\n",
    "y_train = []\n",
    "y_test = []\n",
    "\n",
    "k = 10\n",
    "remainder = inp_paras.shape[0] % k\n",
    "if(remainder != 0):\n",
    "    airfoils_opt = airfoils_opt[:-remainder]\n",
    "    inp_paras = inp_paras[:-remainder]\n",
    "\n",
    "print(airfoils_opt.shape)\n",
    "print(inp_paras.shape)\n",
    "\n",
    "kf = KFold(n_splits=k, shuffle=False)\n",
    "\n",
    "# only need to split one for indices since they have the same amount of airfoils\n",
    "for i, (train_index, test_index) in enumerate(kf.split(inp_paras)):\n",
    "    # print(f\"Fold {i}:\")\n",
    "    # print(f\"  Train: index={train_index}\")\n",
    "    # print(f\"  Test:  index={test_index}\")\n",
    "\n",
    "    # print(len(train_index))\n",
    "    # print(len(test_index))\n",
    "\n",
    "    x_train_subsample =[]\n",
    "    x_test_subsample =[]\n",
    "    y_train_subsample =[]\n",
    "    y_test_subsample =[]\n",
    "    \n",
    "    for index in train_index:\n",
    "        x_train_subsample.append(inp_paras[index])\n",
    "        y_train_subsample.append(airfoils_opt[index])\n",
    "\n",
    "    for index in test_index:\n",
    "        x_test_subsample.append(inp_paras[index])\n",
    "        y_test_subsample.append(airfoils_opt[index])\n",
    "\n",
    "    x_train.append(np.array(x_train_subsample))\n",
    "    y_train.append(np.array(y_train_subsample))\n",
    "    x_test.append(np.array(x_test_subsample))\n",
    "    y_test.append(np.array(y_test_subsample))\n",
    "\n",
    "    # x_train.append(x_train_subsample)\n",
    "    # y_train.append(y_train_subsample)\n",
    "    # x_test.append(x_test_subsample)\n",
    "    # y_test.append(y_test_subsample)\n",
    "\n",
    "x_train = np.array(x_train)\n",
    "x_test = np.array(x_test)\n",
    "\n",
    "y_train = np.array(y_train)\n",
    "y_test = np.array(y_test)\n",
    "y_train = y_train.reshape(y_train.shape[0], y_train.shape[1],-1)\n",
    "y_test = y_test.reshape(y_test.shape[0], y_test.shape[1],-1)\n",
    "\n",
    "print(x_test.shape)\n",
    "print(x_train.shape)\n",
    "print(y_test.shape)\n",
    "print(y_train.shape)\n",
    "\n",
    "\n",
    "\n",
    "\n",
    "# n = 0.8\n",
    "# size_train = int(n*airfoils_opt.shape[0])\n",
    "\n",
    "# x_train = inp_paras[:size_train]\n",
    "# y_train = airfoils_opt[:size_train]\n",
    "\n",
    "# x_test = inp_paras[size_train:]\n",
    "# y_test = airfoils_opt[size_train:]\n",
    "\n",
    "# print(x_train.shape)\n",
    "# print(x_test.shape)\n",
    "# print(y_train.shape)\n"
   ]
  },
  {
   "cell_type": "code",
   "execution_count": 110,
   "metadata": {},
   "outputs": [
    {
     "name": "stdout",
     "output_type": "stream",
     "text": [
      "Number of latent dimensions to explain 99% of variance:  5\n"
     ]
    },
    {
     "data": {
      "image/png": "[encoded data removed]",
      "text/plain": [
       "<Figure size 640x480 with 1 Axes>"
      ]
     },
     "metadata": {},
     "output_type": "display_data"
    }
   ],
   "source": [
    "\n",
    "# PCA for dimension reduction of airfoil geometries\n",
    "# y_train_new = y_train.reshape(y_train.shape[0],-1)\n",
    "# print(y_train_new.shape)\n",
    "estimator = decomposition.PCA(n_components=15)\n",
    "estimator.fit(y_train[0]) \n",
    "components_ = estimator.components_\n",
    "\n",
    "# Scree Plot\n",
    "# Plotting the explained variance for each latent dimension\n",
    "plt.plot(estimator.explained_variance_)\n",
    "plt.ylabel(\"Explained Variance\")\n",
    "plt.xlabel(\"Latent Dimension\")\n",
    "\n",
    "cumulative_explained_var_ratio = np.cumsum(estimator.explained_variance_ratio_)\n",
    "num_dims_to99 = np.argmax(cumulative_explained_var_ratio > .99) # Number of dimesnions needed to explain 99% of variance\n",
    "print(\"Number of latent dimensions to explain 99% of variance: \", num_dims_to99)"
   ]
  },
  {
   "cell_type": "code",
   "execution_count": 111,
   "metadata": {},
   "outputs": [
    {
     "name": "stdout",
     "output_type": "stream",
     "text": [
      "(10, 891, 384)\n",
      "(10, 99, 20)\n",
      "(10, 891, 20)\n"
     ]
    }
   ],
   "source": [
    "# Transforming airfoil geometry data into a lower dimension space\n",
    "\n",
    "y_train_pca = []\n",
    "y_test_pca = []\n",
    "\n",
    "pca = PCA(n_components=20)\n",
    "\n",
    "print(y_train.shape)\n",
    "\n",
    "for i in range(k):\n",
    "    pca.fit(y_train[i])\n",
    "    y_train_pca.append(pca.transform(y_train[i]))\n",
    "    \n",
    "    pca.fit(y_test[i])\n",
    "    y_test_pca.append(pca.transform(y_test[i]))\n",
    "\n",
    "y_train_pca = np.array(y_train_pca)\n",
    "y_test_pca = np.array(y_test_pca)\n",
    "\n",
    "print(y_test_pca.shape)\n",
    "print(y_train_pca.shape)"
   ]
  },
  {
   "cell_type": "code",
   "execution_count": 112,
   "metadata": {},
   "outputs": [
    {
     "name": "stdout",
     "output_type": "stream",
     "text": [
      "891\n",
      "99\n"
     ]
    }
   ],
   "source": [
    "\n",
    "x_train = torch.tensor(x_train, dtype=torch.float32)\n",
    "y_train = torch.tensor(y_train_pca, dtype=torch.float32)\n",
    "x_test = torch.tensor(x_test, dtype=torch.float32)\n",
    "y_test = torch.tensor(y_test_pca, dtype=torch.float32)\n",
    "\n",
    "print(len(x_train[9]))\n",
    "print(len(y_test[9]))\n"
   ]
  },
  {
   "cell_type": "code",
   "execution_count": 113,
   "metadata": {},
   "outputs": [
    {
     "name": "stdout",
     "output_type": "stream",
     "text": [
      "Fold 0: Epoch 0: Train Loss = 29828.7656, Test Loss = 60356.0391\n",
      "Fold 0: Epoch 20: Train Loss = 0.0006, Test Loss = 0.0005\n",
      "Fold 0: Epoch 40: Train Loss = 0.0003, Test Loss = 0.0003\n",
      "Fold 0: Epoch 60: Train Loss = 0.0002, Test Loss = 0.0002\n",
      "Fold 0: Epoch 80: Train Loss = 0.0002, Test Loss = 0.0002\n",
      "Fold 0: Epoch 100: Train Loss = 0.0002, Test Loss = 0.0002\n",
      "Fold 1: Epoch 0: Train Loss = 19576.5117, Test Loss = 3385.4512\n",
      "Fold 1: Epoch 20: Train Loss = 0.0007, Test Loss = 0.0007\n",
      "Fold 1: Epoch 40: Train Loss = 0.0003, Test Loss = 0.0003\n",
      "Fold 1: Epoch 60: Train Loss = 0.0002, Test Loss = 0.0002\n",
      "Fold 1: Epoch 80: Train Loss = 0.0002, Test Loss = 0.0002\n",
      "Fold 1: Epoch 100: Train Loss = 0.0002, Test Loss = 0.0002\n",
      "Fold 2: Epoch 0: Train Loss = 23659.9883, Test Loss = 37752.9492\n",
      "Fold 2: Epoch 20: Train Loss = 0.0008, Test Loss = 0.0007\n",
      "Fold 2: Epoch 40: Train Loss = 0.0003, Test Loss = 0.0003\n",
      "Fold 2: Epoch 60: Train Loss = 0.0002, Test Loss = 0.0002\n",
      "Fold 2: Epoch 80: Train Loss = 0.0002, Test Loss = 0.0002\n",
      "Fold 2: Epoch 100: Train Loss = 0.0002, Test Loss = 0.0002\n",
      "Fold 3: Epoch 0: Train Loss = 27847.7930, Test Loss = 85428.7344\n",
      "Fold 3: Epoch 20: Train Loss = 46.4421, Test Loss = 10.4612\n",
      "Fold 3: Epoch 40: Train Loss = 0.0004, Test Loss = 0.0004\n",
      "Fold 3: Epoch 60: Train Loss = 0.0002, Test Loss = 0.0002\n",
      "Fold 3: Epoch 80: Train Loss = 0.0002, Test Loss = 0.0002\n",
      "Fold 3: Epoch 100: Train Loss = 0.0002, Test Loss = 0.0002\n",
      "Fold 4: Epoch 0: Train Loss = 22049.1152, Test Loss = 30699.8125\n",
      "Fold 4: Epoch 20: Train Loss = 0.0003, Test Loss = 0.0003\n",
      "Fold 4: Epoch 40: Train Loss = 0.0002, Test Loss = 0.0002\n",
      "Fold 4: Epoch 60: Train Loss = 0.0002, Test Loss = 0.0002\n",
      "Fold 4: Epoch 80: Train Loss = 0.0002, Test Loss = 0.0002\n",
      "Fold 4: Epoch 100: Train Loss = 0.0002, Test Loss = 0.0002\n",
      "Fold 5: Epoch 0: Train Loss = 21656.3652, Test Loss = 13507.3848\n",
      "Fold 5: Epoch 20: Train Loss = 0.0007, Test Loss = 0.0007\n",
      "Fold 5: Epoch 40: Train Loss = 0.0003, Test Loss = 0.0003\n",
      "Fold 5: Epoch 60: Train Loss = 0.0002, Test Loss = 0.0002\n",
      "Fold 5: Epoch 80: Train Loss = 0.0002, Test Loss = 0.0002\n",
      "Fold 5: Epoch 100: Train Loss = 0.0002, Test Loss = 0.0002\n",
      "Fold 6: Epoch 0: Train Loss = 23555.9434, Test Loss = 50827.5312\n",
      "Fold 6: Epoch 20: Train Loss = 0.0004, Test Loss = 0.0005\n",
      "Fold 6: Epoch 40: Train Loss = 0.0002, Test Loss = 0.0003\n",
      "Fold 6: Epoch 60: Train Loss = 0.0002, Test Loss = 0.0003\n",
      "Fold 6: Epoch 80: Train Loss = 0.0002, Test Loss = 0.0002\n",
      "Fold 6: Epoch 100: Train Loss = 0.0002, Test Loss = 0.0002\n",
      "Fold 7: Epoch 0: Train Loss = 36801.0820, Test Loss = 51323.6172\n",
      "Fold 7: Epoch 20: Train Loss = 0.0004, Test Loss = 0.0005\n",
      "Fold 7: Epoch 40: Train Loss = 0.0002, Test Loss = 0.0003\n",
      "Fold 7: Epoch 60: Train Loss = 0.0002, Test Loss = 0.0002\n",
      "Fold 7: Epoch 80: Train Loss = 0.0002, Test Loss = 0.0002\n",
      "Fold 7: Epoch 100: Train Loss = 0.0002, Test Loss = 0.0002\n",
      "Fold 8: Epoch 0: Train Loss = 33222.2109, Test Loss = 84698.8359\n",
      "Fold 8: Epoch 20: Train Loss = 0.0004, Test Loss = 0.0005\n",
      "Fold 8: Epoch 40: Train Loss = 0.0002, Test Loss = 0.0003\n",
      "Fold 8: Epoch 60: Train Loss = 0.0002, Test Loss = 0.0002\n",
      "Fold 8: Epoch 80: Train Loss = 0.0002, Test Loss = 0.0002\n",
      "Fold 8: Epoch 100: Train Loss = 0.0002, Test Loss = 0.0002\n",
      "Fold 9: Epoch 0: Train Loss = 31366.7480, Test Loss = 3430.7034\n",
      "Fold 9: Epoch 20: Train Loss = 0.0004, Test Loss = 0.0004\n",
      "Fold 9: Epoch 40: Train Loss = 0.0002, Test Loss = 0.0003\n",
      "Fold 9: Epoch 60: Train Loss = 0.0002, Test Loss = 0.0002\n",
      "Fold 9: Epoch 80: Train Loss = 0.0002, Test Loss = 0.0002\n",
      "Fold 9: Epoch 100: Train Loss = 0.0002, Test Loss = 0.0002\n"
     ]
    }
   ],
   "source": [
    "# DNN Building\n",
    "class Airfoil_NN(nn.Module):\n",
    "    # RelU(Linear) --> ReLU(Linear) --> Linear --> Ouput\n",
    "    # 2 Hidden Layers with ReLU activations\n",
    "    def __init__(self, output_param, input_param = 3, neurons_per_layer = [3, 3]):\n",
    "        super().__init__() \n",
    "        self.input_param = input_param\n",
    "        self.output_param = output_param\n",
    "        self.neurons_per_layer = neurons_per_layer\n",
    "\n",
    "        self.hidden1 = nn.Linear(self.input_param, self.neurons_per_layer[0])\n",
    "        self.act1 = nn.ReLU()\n",
    "        self.hidden2 = nn.Linear(self.neurons_per_layer[0], self.neurons_per_layer[1])\n",
    "        self.act2 = nn.ReLU()\n",
    "        self.output = nn.Linear(self.neurons_per_layer[1], self.output_param)\n",
    "\n",
    "\n",
    "    def forward(self, x):\n",
    "        x = self.act1(self.hidden1(x))\n",
    "        x = self.act2(self.hidden2(x))\n",
    "        x = self.output(x)\n",
    "        return x \n",
    "\n",
    "n_epochs =120\n",
    "batch_size = 40 \n",
    "\n",
    "y_eval = []\n",
    "\n",
    "for i in range(k): \n",
    "    model = Airfoil_NN(20, 3, [12, 24]) # [output layer neurons, input layer neurons, hiddern layers]\n",
    "\n",
    "    # train the model\n",
    "    loss_fn   = nn.HuberLoss(reduction='mean',delta=0.01) # Less sensitive to outliers than MSE\n",
    "    optimizer = optim.Adam(model.parameters(), lr=0.1)\n",
    "\n",
    "    # Batch Fed Training Loop\n",
    "\n",
    "    for epoch in range(n_epochs):\n",
    "        for j in range(0, len(x_train), batch_size):\n",
    "            Xbatch = x_train[i][j:j+batch_size]\n",
    "            y_pred = model(Xbatch)\n",
    "            ybatch = y_train[i][j:j+batch_size]\n",
    "            loss = loss_fn(y_pred, ybatch)\n",
    "            optimizer.zero_grad()\n",
    "            loss.backward()\n",
    "            optimizer.step()\n",
    "\n",
    "        # Performance Monitoring \n",
    "        if(epoch % 20 == 0):\n",
    "            validate_loss = loss_fn(model(x_test[i]),y_test[i]).item()\n",
    "            print(f\"Fold {i}: Epoch {epoch}: Train Loss = {loss.item():.4f}, Test Loss = {validate_loss:.4f}\")\n",
    "\n",
    "    model.eval()\n",
    "    with torch.no_grad():\n",
    "        y_eval.append(model(x_test[i]).numpy())"
   ]
  },
  {
   "cell_type": "code",
   "execution_count": 114,
   "metadata": {},
   "outputs": [
    {
     "data": {
      "image/png": "[encoded data removed]",
      "text/plain": [
       "<Figure size 640x480 with 1 Axes>"
      ]
     },
     "metadata": {},
     "output_type": "display_data"
    }
   ],
   "source": [
    "reconstructed_airfoils = pca.inverse_transform(y_eval[9])\n",
    "reconstructed_airfoils=reconstructed_airfoils.reshape(-1,192,2)\n",
    "\n",
    "# Pick a real test sample (airfoil_id in [796, 994])\n",
    "airfoil_id = 900\n",
    "test_index = airfoil_id - x_train.shape[1]  \n",
    "\n",
    "plt.plot(airfoils_opt[airfoil_id, :, 0], airfoils_opt[airfoil_id,\n",
    "         :, 1], label=f\"True {airfoil_id}\", color='blue')\n",
    "plt.plot(reconstructed_airfoils[test_index, :, 0], reconstructed_airfoils[test_index,\n",
    "         :, 1], label=f\"Predicted {airfoil_id}\", color='red')\n",
    "\n",
    "plt.axis('equal')\n",
    "plt.legend()\n",
    "plt.show()"
   ]
  }
 ],
 "metadata": {
  "kernelspec": {
   "display_name": "base",
   "language": "python",
   "name": "python3"
  },
  "language_info": {
   "codemirror_mode": {
    "name": "ipython",
    "version": 3
   },
   "file_extension": ".py",
   "mimetype": "text/x-python",
   "name": "python",
   "nbconvert_exporter": "python",
   "pygments_lexer": "ipython3",
   "version": "3.12.7"
  }
 },
 "nbformat": 4,
 "nbformat_minor": 4
}
