{
 "cells": [
  {
   "cell_type": "code",
   "execution_count": 1,
   "metadata": {},
   "outputs": [
    {
     "ename": "ModuleNotFoundError",
     "evalue": "No module named 'torch'",
     "output_type": "error",
     "traceback": [
      "\u001b[1;31m---------------------------------------------------------------------------\u001b[0m",
      "\u001b[1;31mModuleNotFoundError\u001b[0m                       Traceback (most recent call last)",
      "Cell \u001b[1;32mIn[1], line 6\u001b[0m\n\u001b[0;32m      4\u001b[0m \u001b[38;5;28;01mimport\u001b[39;00m \u001b[38;5;21;01mmatplotlib\u001b[39;00m\u001b[38;5;21;01m.\u001b[39;00m\u001b[38;5;21;01mpyplot\u001b[39;00m \u001b[38;5;28;01mas\u001b[39;00m \u001b[38;5;21;01mplt\u001b[39;00m\n\u001b[0;32m      5\u001b[0m \u001b[38;5;28;01mimport\u001b[39;00m \u001b[38;5;21;01mpandas\u001b[39;00m \u001b[38;5;28;01mas\u001b[39;00m \u001b[38;5;21;01mpd\u001b[39;00m\n\u001b[1;32m----> 6\u001b[0m \u001b[38;5;28;01mimport\u001b[39;00m \u001b[38;5;21;01mtorch\u001b[39;00m\n\u001b[0;32m      7\u001b[0m \u001b[38;5;28;01mimport\u001b[39;00m \u001b[38;5;21;01mtorch\u001b[39;00m\u001b[38;5;21;01m.\u001b[39;00m\u001b[38;5;21;01mnn\u001b[39;00m \u001b[38;5;28;01mas\u001b[39;00m \u001b[38;5;21;01mnn\u001b[39;00m\n\u001b[0;32m      8\u001b[0m \u001b[38;5;28;01mimport\u001b[39;00m \u001b[38;5;21;01mtorch\u001b[39;00m\u001b[38;5;21;01m.\u001b[39;00m\u001b[38;5;21;01moptim\u001b[39;00m \u001b[38;5;28;01mas\u001b[39;00m \u001b[38;5;21;01moptim\u001b[39;00m\n",
      "\u001b[1;31mModuleNotFoundError\u001b[0m: No module named 'torch'"
     ]
    }
   ],
   "source": [
    "from sklearn import decomposition\n",
    "from sklearn.decomposition import PCA\n",
    "import numpy as np\n",
    "import matplotlib.pyplot as plt\n",
    "import pandas as pd\n",
    "import torch\n",
    "import torch.nn as nn\n",
    "import torch.optim as optim"
   ]
  },
  {
   "cell_type": "code",
   "execution_count": null,
   "metadata": {},
   "outputs": [],
   "source": [
    "# Loading data into numpy arrays\n",
    "inp_paras = np.load('data/inp_paras_995.npy')\n",
    "aoas_opt = np.load('data/aoas_opt_995.npy')\n",
    "airfoils_opt = np.load('data/airfoils_opt_995.npy')\n",
    "\n",
    "print(airfoils_opt.reshape(995,-1).shape)\n",
    "print(inp_paras.shape)\n",
    "print(aoas_opt.shape)"
   ]
  },
  {
   "cell_type": "code",
   "execution_count": null,
   "metadata": {},
   "outputs": [],
   "source": [
    "# Centering the airfoils\n",
    "airfoils_opt[:, :, 0] -= airfoils_opt[:, :, 0].mean()\n",
    "airfoils_opt[:, :,1] -= airfoils_opt[:,:,1].mean()\n",
    "\n",
    "# PCA for dimesniosn reduction of airfoil geometries\n",
    "airfoils_opt_new = airfoils_opt.reshape(995,-1) # FLatten the 3D array to 2D for the PCA estimator\n",
    "estimator = decomposition.PCA(n_components=15)\n",
    "estimator.fit(airfoils_opt_new) \n",
    "components_ = estimator.components_\n",
    "\n",
    "# Scree Plot\n",
    "# Plotting the explained variance for each latent dimension\n",
    "plt.plot(estimator.explained_variance_)\n",
    "plt.ylabel(\"Explained Variance\")\n",
    "plt.xlabel(\"Latent Dimension\")\n",
    "\n",
    "cumulative_explained_var_ratio = np.cumsum(estimator.explained_variance_ratio_)\n",
    "num_dims_to99 = np.argmax(cumulative_explained_var_ratio > .99) # Number of dimesnions needed to explain 99% of variance\n",
    "print(\"Number of latent dimensions to explain 99% of variance: \", num_dims_to99)"
   ]
  },
  {
   "cell_type": "code",
   "execution_count": null,
   "metadata": {},
   "outputs": [],
   "source": [
    "# Transforming airfoil geometry data into a lower dimesnion space\n",
    "lowDProjection = np.zeros((995, 384))\n",
    "\n",
    "pca = PCA(n_components=num_dims_to99)\n",
    "pca.fit(airfoils_opt_new)\n",
    "lowDProjection_airfoils_opt = pca.transform(airfoils_opt_new)\n",
    "print(lowDProjection_airfoils_opt.shape)\n",
    "\n",
    "# Example of recasting our data back into the orginal dimension space\n",
    "reconstruct_data = pca.inverse_transform(lowDProjection_airfoils_opt)\n",
    "print(reconstruct_data.shape)"
   ]
  },
  {
   "cell_type": "code",
   "execution_count": null,
   "metadata": {},
   "outputs": [],
   "source": [
    "# Splitting data into training and testing\n",
    "n = 0.8\n",
    "size_train = int(n*lowDProjection_airfoils_opt.shape[0])\n",
    "\n",
    "x_train = inp_paras[:size_train]\n",
    "y_train = lowDProjection_airfoils_opt[:size_train]\n",
    "\n",
    "x_test = inp_paras[size_train:]\n",
    "y_test = lowDProjection_airfoils_opt[size_train]\n",
    "\n",
    "print(x_train.shape)\n",
    "print(x_test.shape)\n",
    "print(y_train.shape)\n",
    "\n",
    "x_train = torch.tensor(x_train, dtype=torch.float32)\n",
    "y_train = torch.tensor(y_train, dtype=torch.float32)\n",
    "x_test = torch.tensor(x_test, dtype=torch.float32)\n",
    "y_test = torch.tensor(y_test, dtype=torch.float32)\n"
   ]
  },
  {
   "cell_type": "code",
   "execution_count": null,
   "metadata": {},
   "outputs": [],
   "source": [
    "# DNN Building\n",
    "class Airfoil_NN():\n",
    "    def __init__(self, output_param, input_param = 3, neurons_per_layer = [3, 3]):\n",
    "        self.input_param = input_param\n",
    "        self.output_param = output_param\n",
    "        self.neuron_per_layer = neurons_per_layer\n",
    "\n",
    "        self.hidden1 = nn.Linear(self.input_param, self.neurons_per_layer[0])\n",
    "        self.act1 = nn.ReLu()\n",
    "        self.hidden2 = nn.Linear(self.neurons_per_layer[0], self.neurons_per_layer[1])\n",
    "        self.act2 = nn.ReLu()\n",
    "        self.output = nn.Linear(self.neurons_per_layer[1], self.output_param)\n",
    "        self.act_output = nn.ReLu()\n",
    "\n",
    "\n",
    "    def forward(self, x):\n",
    "        x = self.act1(self.hidden1(x))\n",
    "        x = self.act2(self.hidden2(x))\n",
    "        x = self.act_output(self.output(x))\n",
    "        return x \n",
    "\n",
    "model = Airfoil_NN()\n",
    "\n",
    "# train the model\n",
    "loss_fn   = nn.MSELoss()  # binary cross entropy\n",
    "optimizer = optim.Adam(model.parameters(), lr=0.001)\n",
    "\n",
    "n_epochs = 100\n",
    "batch_size = 50\n",
    "\n",
    "for epoch in range(n_epochs):\n",
    "    for i in range(0, len(x_train), batch_size):\n",
    "        Xbatch = x_train[i:i+batch_size]\n",
    "        y_pred = model(Xbatch)\n",
    "        ybatch = y_train[i:i+batch_size]\n",
    "        loss = loss_fn(y_pred, ybatch)\n",
    "        optimizer.zero_grad()\n",
    "        loss.backward()\n",
    "        optimizer.step()\n",
    "\n",
    "        if(epoch+1 % 10 == 0):\n",
    "            print(f\"Epoch {epoch+1}/{n_epochs} \\n Loss: {loss.item()}\")"
   ]
  }
 ],
 "metadata": {
  "kernelspec": {
   "display_name": "Python [conda env:base] *",
   "language": "python",
   "name": "conda-base-py"
  },
  "language_info": {
   "codemirror_mode": {
    "name": "ipython",
    "version": 3
   },
   "file_extension": ".py",
   "mimetype": "text/x-python",
   "name": "python",
   "nbconvert_exporter": "python",
   "pygments_lexer": "ipython3",
   "version": "3.12.7"
  }
 },
 "nbformat": 4,
 "nbformat_minor": 4
}
